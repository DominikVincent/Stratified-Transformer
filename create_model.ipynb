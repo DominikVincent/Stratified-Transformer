{
 "cells": [
  {
   "cell_type": "code",
   "execution_count": 1,
   "metadata": {},
   "outputs": [
    {
     "name": "stderr",
     "output_type": "stream",
     "text": [
      "/data/vision/polina/projects/wmh/dhollidt/conda/envs/stratified/lib/python3.8/site-packages/scipy/__init__.py:138: UserWarning: A NumPy version >=1.16.5 and <1.23.0 is required for this version of SciPy (detected version 1.23.0)\n",
      "  warnings.warn(f\"A NumPy version >={np_minversion} and <{np_maxversion} is required for this version of \"\n"
     ]
    }
   ],
   "source": [
    "# autoreload\n",
    "%load_ext autoreload\n",
    "%autoreload 2\n",
    "\n",
    "from model.stratified_transformer import Stratified\n",
    "from util import config"
   ]
  },
  {
   "cell_type": "code",
   "execution_count": 2,
   "metadata": {},
   "outputs": [],
   "source": [
    "args = config.load_cfg_from_cfg_file('config/s3dis/s3dis_stratified_transformer.yaml')\n",
    "\n",
    "args.patch_size = args.grid_size * args.patch_size\n",
    "args.window_size = [args.patch_size * args.window_size * (2**i) for i in range(args.num_layers)]\n",
    "args.grid_sizes = [args.patch_size * (2**i) for i in range(args.num_layers)]\n",
    "args.quant_sizes = [args.quant_size * (2**i) for i in range(args.num_layers)]\n",
    "\n",
    "FEATURE_DIM = 64\n",
    "\n",
    "model = Stratified(args.downsample_scale, args.depths, args.channels, args.num_heads, args.window_size, \\\n",
    "    args.up_k, args.grid_sizes, args.quant_sizes, rel_query=args.rel_query, \\\n",
    "    rel_key=args.rel_key, rel_value=args.rel_value, drop_path_rate=args.drop_path_rate, concat_xyz=args.concat_xyz, num_classes=args.classes, \\\n",
    "    ratio=args.ratio, k=args.k, prev_grid_size=args.grid_size, sigma=1.0, num_layers=args.num_layers, stem_transformer=args.stem_transformer, features_in_dim=FEATURE_DIM)\n",
    "model = model.cuda()"
   ]
  },
  {
   "cell_type": "code",
   "execution_count": 3,
   "metadata": {},
   "outputs": [
    {
     "name": "stdout",
     "output_type": "stream",
     "text": [
      "#Model parameters: 8064730\n",
      "The model is on device: cuda:0\n"
     ]
    }
   ],
   "source": [
    "print('#Model parameters: {}'.format(sum([x.nelement() for x in model.parameters()])))\n",
    "print(\"The model is on device: {}\".format(next(model.parameters()).device))"
   ]
  },
  {
   "cell_type": "code",
   "execution_count": 4,
   "metadata": {},
   "outputs": [],
   "source": [
    "import torch\n",
    "import torch_points_kernels as tp\n",
    "\n",
    "# get fake data\n",
    "N = 1024\n",
    "C = FEATURE_DIM\n",
    "B = 8\n",
    "pos = torch.rand(B, N, 3) * 2\n",
    "features = torch.rand(B, N, C) \n",
    "\n",
    "def batch_for_stratified_point_transformer(points, features):\n",
    "    batch_size = points.shape[0]\n",
    "    seq_len = points.shape[1]\n",
    "    points = points.reshape(-1, 3)\n",
    "    features = features.reshape(-1, features.shape[-1])\n",
    "    offsets = torch.arange(seq_len, (1 + batch_size) * seq_len, seq_len, dtype=torch.int32)\n",
    "    \n",
    "    offset_ = offsets.clone()\n",
    "    offset_[1:] = offset_[1:] - offset_[:-1]\n",
    "    batch = torch.cat([torch.tensor([ii]*o) for ii,o in enumerate(offset_)], 0).long()\n",
    "    \n",
    "    sigma = 1.0\n",
    "    radius = 2.5 * args.grid_size * sigma\n",
    "    neighbor_idx = tp.ball_query(radius, args.max_num_neighbors, points, points, mode=\"partial_dense\", batch_x=batch, batch_y=batch)[0]\n",
    "    \n",
    "    # get the neighbour_idx\n",
    "    \n",
    "    return points, features, offsets, batch, neighbor_idx\n",
    "\n",
    "points, features, offsets, batch, neighbour_idx = batch_for_stratified_point_transformer(pos, features)"
   ]
  },
  {
   "cell_type": "code",
   "execution_count": 5,
   "metadata": {},
   "outputs": [
    {
     "name": "stdout",
     "output_type": "stream",
     "text": [
      "torch.Size([8192, 3]) torch.Size([8192, 64]) torch.Size([8]) torch.Size([8192]) torch.Size([8192, 34])\n",
      "cpu cpu cpu cpu cpu\n",
      "torch.float32 torch.float32 torch.int32 torch.int64 torch.int64\n",
      "cuda:0 cuda:0 cuda:0 cuda:0 cuda:0\n",
      "tensor([1024, 2048, 3072, 4096, 5120, 6144, 7168, 8192], device='cuda:0',\n",
      "       dtype=torch.int32)\n",
      "tensor([0, 0, 0,  ..., 7, 7, 7], device='cuda:0')\n"
     ]
    }
   ],
   "source": [
    "print(points.shape, features.shape, offsets.shape, batch.shape, neighbour_idx.shape)\n",
    "print(points.device, features.device, offsets.device, batch.device, neighbour_idx.device)\n",
    "print(points.dtype, features.dtype, offsets.dtype, batch.dtype, neighbour_idx.dtype)\n",
    "# bring all the data to the GPU\n",
    "points, features, offsets, batch, neighbour_idx = points.cuda(), features.cuda(), offsets.cuda(), batch.cuda(), neighbour_idx.cuda()\n",
    "print(points.device, features.device, offsets.device, batch.device, neighbour_idx.device)\n",
    "\n",
    "print(offsets)\n",
    "print(batch)"
   ]
  },
  {
   "cell_type": "code",
   "execution_count": 6,
   "metadata": {},
   "outputs": [],
   "source": [
    "output = model(features, points, offsets, batch, neighbour_idx)\n"
   ]
  },
  {
   "cell_type": "code",
   "execution_count": 7,
   "metadata": {},
   "outputs": [
    {
     "name": "stdout",
     "output_type": "stream",
     "text": [
      "torch.Size([8192, 13])\n"
     ]
    }
   ],
   "source": [
    "print(output.shape)"
   ]
  },
  {
   "cell_type": "code",
   "execution_count": null,
   "metadata": {},
   "outputs": [],
   "source": []
  }
 ],
 "metadata": {
  "kernelspec": {
   "display_name": "stratified",
   "language": "python",
   "name": "python3"
  },
  "language_info": {
   "codemirror_mode": {
    "name": "ipython",
    "version": 3
   },
   "file_extension": ".py",
   "mimetype": "text/x-python",
   "name": "python",
   "nbconvert_exporter": "python",
   "pygments_lexer": "ipython3",
   "version": "3.8.16"
  },
  "orig_nbformat": 4
 },
 "nbformat": 4,
 "nbformat_minor": 2
}
